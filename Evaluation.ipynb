{
 "cells": [
  {
   "cell_type": "markdown",
   "metadata": {},
   "source": [
    "# Evaluation\n",
    "This notebook contains code to reproduce the results presented in the Energy Informatics Open Journal. "
   ]
  },
  {
   "cell_type": "markdown",
   "metadata": {},
   "source": [
    "## Testing"
   ]
  },
  {
   "cell_type": "code",
   "execution_count": null,
   "metadata": {},
   "outputs": [],
   "source": [
    "import random\n",
    "import warnings\n",
    "import math\n",
    "import numpy as np\n",
    "import pandapower\n",
    "import inspect\n",
    "from ipywidgets import Button, HBox, VBox\n",
    "from pathlib import Path\n",
    "\n",
    "from communication.network import CommNetwork\n",
    "from cyber.analysis import Analyzer\n",
    "from attackers.random_attacker import RandomAttacker\n",
    "\n",
    "def run_experiment(seed:int=42, spec:str=\"Default\", grid:str=\"create_cigre_network_mv\", grid_kwargs:dict={},\n",
    "                   criticality=None, save_name:str|None=None,\n",
    "                   param_name:str=\"children_per_parent\", param_values:list=[2, 3, 5, 8, 13, 21, 34, lambda network: network.n_devices],\n",
    "                   n_attacks:int=1000, flatten:bool=False, auto_compromise_children:bool=False, **kwargs):\n",
    "    np.random.seed(seed); random.seed(seed)\n",
    "    print(f\"Seed: {seed}\")\n",
    "\n",
    "    if param_name == \"n_devices\" and grid is not None:\n",
    "        raise ValueError(f\"Grid should be undefined for device count to be set.\")\n",
    "    grid_map = {name:creator for name, creator in inspect.getmembers(pandapower.networks, predicate=inspect.isfunction)}\n",
    "    with warnings.catch_warnings():\n",
    "        warnings.filterwarnings(action=\"ignore\", category=FutureWarning)\n",
    "        grid = grid_map.get(grid)(**grid_kwargs) if grid is not None else None\n",
    "        criticality = criticality(grid, verbose=False)[0] if criticality is not None else criticality\n",
    "        spec_path = Path.cwd() / \"specifications\" / f\"{spec.capitalize()}_specifications.json\"\n",
    "        network = CommNetwork(n_devices=kwargs.get(\"n_devices\", 20),\n",
    "                              n_entrypoints=kwargs.get(\"n_entrypoints\", 1), child_no_deviation=kwargs.get(\"child_no_deviation\", 0),\n",
    "                              children_per_parent=kwargs.get(\"children_per_parent\", 3),\n",
    "                              sibling_to_sibling_comm=kwargs.get(\"sibling_to_sibling_comm\", None),\n",
    "                              criticality=criticality,\n",
    "                              network_specs=spec_path, grid=grid)\n",
    "    print(f\"Number of Components: {network.n_components}\")\n",
    "\n",
    "    # Total number of attacks: no_of_components * N_ATTACKS\n",
    "    param_values = [val(network) if inspect.isfunction(val) else val for val in param_values]\n",
    "    analyzer = Analyzer(network)\n",
    "    exp_desc = '_'.join([w.capitalize() for w in param_name.split('_')])\n",
    "    kwarg_desc = '-'.join(f\"{k}_{v}\" for k,v in kwargs.items())\n",
    "    save_name = save_name if save_name is not None else f\"{exp_desc}\" + (f\"--{kwarg_desc}\" if kwarg_desc else \"\")\n",
    "    archive_path = Path.cwd() / \"data\" / f\"{save_name}.npz\"\n",
    "    print(f\"Archive Path: '{archive_path}'\")\n",
    "\n",
    "    def run_monte(event):\n",
    "        print(\"Running New Monte Carlo Simulation (Estimated Time to Completion: 40 minutes)\")\n",
    "        if len(param_values) > 1:\n",
    "            compromised_array, effort_array, criticality_array = analyzer.monte_carlo_multi_analysis(seed=seed, \n",
    "                                                                                    n_attacks=n_attacks,\n",
    "                                                                                    child_no_deviation=0,\n",
    "                                                                                    grid=grid,\n",
    "                                                                                    vary_entrypoints=kwargs.get(\"vary_entrypoints\", True),\n",
    "                                                                                    effort_only=kwargs.get(\"effort_only\", False),\n",
    "                                                                                    criticality=criticality,\n",
    "                                                                                    auto_compromise_children=auto_compromise_children,\n",
    "                                                                                    param_name=param_name, \n",
    "                                                                                    param_values=param_values)\n",
    "        else:\n",
    "            compromised_array, effort_array, criticality_array = analyzer.monte_carlo_analysis(\n",
    "                n_attacks=n_attacks, attacker_variant=RandomAttacker, budget=kwargs.get(\"budget\",52), device_only=False, \n",
    "                sibling_to_sibling_comm=kwargs.get(\"sibling_to_sibling_comm\", None), vary_entrypoints=kwargs.get(\"vary_entrypoints\", True),\n",
    "                auto_compromise_children=auto_compromise_children,\n",
    "            )\n",
    "        np.savez(archive_path, compromise=compromised_array, effort=effort_array, criticality=criticality_array) # .flatten()\n",
    "        analyzer.plot_monte(save_name=save_name, figsize=(14, 16) if not math.isclose(np.mean(criticality_array), 0) else (14,12), flatten=flatten)\n",
    "\n",
    "    def load_previous(event):\n",
    "        print(\"Loading Previous Session\")\n",
    "        arrays = np.load(archive_path)\n",
    "        compromised_array = arrays.get(\"compromise\")\n",
    "        effort_array = arrays.get(\"effort\")\n",
    "        criticality_array = arrays.get(\"criticality\", np.zeros_like(compromised_array))\n",
    "        analyzer.res_monte = {**{\"compromised\":compromised_array, \"effort\":effort_array, \"criticality\":criticality_array},\n",
    "                              **({} if len(param_values) == 1 else {\"param_name\":param_name, \"param_values\":param_values})}\n",
    "        analyzer.plot_monte(save_name=save_name, figsize=(14, 16) if \"criticality\" in arrays else (14,12), flatten=flatten)\n",
    "\n",
    "    run_button = Button(description=\"Run Monte\", button_style=\"info\", style=dict(font_size=\"Large\"), continuous_update=False)\n",
    "    run_button.on_click(run_monte)\n",
    "    load_button = Button(description=\"Load Previous\", button_style=\"info\", style=dict(font_size=\"Large\"), continuous_update=False, disabled=False if archive_path.exists() else True)\n",
    "    load_button.on_click(load_previous)\n",
    "    box = HBox([run_button, load_button])\n",
    "    display(box)"
   ]
  },
  {
   "cell_type": "markdown",
   "metadata": {},
   "source": [
    "### Redundancy\n",
    "Investigate the effect of redundancy (no. of children per parent) on the compromise and effort distribution of a communication network. "
   ]
  },
  {
   "cell_type": "code",
   "execution_count": null,
   "metadata": {},
   "outputs": [],
   "source": [
    "run_experiment(seed=42, spec=\"Default\", grid=\"create_cigre_network_mv\", grid_kwargs={\"with_der\":\"all\"},\n",
    "               param_name=\"children_per_parent\", param_values=[2, 3, 5, 8, 13, 21, 34, lambda network: network.n_devices],\n",
    "               flatten=True, auto_compromise_children=False, save_name=\"RedundancyWChildrenAutoCompromised\",\n",
    "               n_attacks=1000)"
   ]
  },
  {
   "cell_type": "markdown",
   "metadata": {},
   "source": [
    "### Budget\n",
    "Investigate the effect of increasing the budget of attackers on the same communication network.\n",
    "Effort Only means probability-of-success on defenses is ignored, if the effort threshold is met then that component is always compromised.\n"
   ]
  },
  {
   "cell_type": "code",
   "execution_count": null,
   "metadata": {},
   "outputs": [],
   "source": [
    "run_experiment(seed=42, spec=\"Default\", grid=\"create_cigre_network_mv\", grid_kwargs={\"with_der\":\"all\"},\n",
    "               param_name=\"budget\", param_values=[0.1, 1, 5, 10, 50, 100], # 250, 500, 1000, 2500, 5000, 10000\n",
    "               children_per_parent = 3,\n",
    "               flatten=True,\n",
    "               effort_only=True, # Ignore success distributions\n",
    "               n_attacks=1000)"
   ]
  },
  {
   "cell_type": "markdown",
   "metadata": {},
   "source": [
    "### Susceptibility"
   ]
  },
  {
   "cell_type": "code",
   "execution_count": null,
   "metadata": {},
   "outputs": [],
   "source": [
    "from cyber.criticality import criticality_by_degree, criticality_by_power_flow, criticality_by_capacity\n",
    "\n",
    "run_experiment(seed=42, spec=\"Default\", grid=\"create_cigre_network_mv\", grid_kwargs={\"with_der\":\"all\"},\n",
    "               param_name=\"budget\", param_values=[52], save_name=\"Susceptibility52\",\n",
    "               children_per_parent = 0, child_no_deviation=3, sibling_to_sibling_comm=\"all\", vary_entrypoints=True,\n",
    "               flatten=True,\n",
    "               criticality=criticality_by_capacity, \n",
    "               n_attacks=10000)"
   ]
  },
  {
   "cell_type": "markdown",
   "metadata": {},
   "source": [
    "### Sibling-to-Sibling Communication\n"
   ]
  },
  {
   "cell_type": "code",
   "execution_count": null,
   "metadata": {},
   "outputs": [],
   "source": [
    "run_experiment(seed=42, spec=\"Default\", grid=\"create_cigre_network_mv\", grid_kwargs={\"with_der\":\"all\"},\n",
    "               param_name=\"sibling_to_sibling_comm\", param_values=[False, \"adjacent\", \"all\"],\n",
    "               vary_entrypoints=True,\n",
    "               save_name=\"siblings\",\n",
    "               flatten=True,\n",
    "               n_attacks=10000)"
   ]
  },
  {
   "cell_type": "markdown",
   "metadata": {},
   "source": [
    "### Vary Entrypoints\n",
    "Show effect of attacking from different entrypoints, using colorscale instead of a Legend."
   ]
  },
  {
   "cell_type": "code",
   "execution_count": null,
   "metadata": {},
   "outputs": [],
   "source": [
    "run_experiment(seed=42, spec=\"Default\", grid=\"create_cigre_network_mv\", grid_kwargs={\"with_der\":\"all\"},\n",
    "               param_name=\"budget\", param_values=[52], save_name=\"VariedEntrypoints\",\n",
    "               children_per_parent = 0, child_no_deviation=3, sibling_to_sibling_comm=\"all\", vary_entrypoints=True,\n",
    "               flatten=False,\n",
    "               criticality=criticality_by_capacity, \n",
    "               n_attacks=10000)"
   ]
  },
  {
   "cell_type": "markdown",
   "metadata": {},
   "source": [
    "### Scalability\n"
   ]
  },
  {
   "cell_type": "code",
   "execution_count": null,
   "metadata": {},
   "outputs": [],
   "source": [
    "import time\n",
    "import pandas as pd\n",
    "\n",
    "def scalability_test(seed:int=42, spec:str=\"Default\",  N:int=100, n_devices:list[int]=[20],\n",
    "                     save_name:str|None=None, **kwargs):\n",
    "    np.random.seed(seed); random.seed(seed)\n",
    "    print(f\"Seed: {seed}\")\n",
    "    spec_path = Path.cwd() / \"specifications\" / f\"{spec.capitalize()}_specifications.json\"\n",
    "\n",
    "    performances = np.zeros((len(n_devices), 3), dtype=np.float32)\n",
    "    for i, n_device in enumerate(n_devices):\n",
    "        print(f\"No. of Devices: {n_device}\")\n",
    "        redundant_network = CommNetwork(n_devices=n_device, n_entrypoints=1, child_no_deviation=0, \n",
    "                            children_per_parent=2, sibling_to_sibling_comm=None, network_specs=spec_path)\n",
    "        \n",
    "        # Worst Case\n",
    "        component_count = np.zeros((redundant_network.n_components+1))\n",
    "        start = time.perf_counter()\n",
    "        for _ in range(N):\n",
    "            network = CommNetwork(n_devices=n_device, n_entrypoints=1, child_no_deviation=0, \n",
    "                                children_per_parent=2, sibling_to_sibling_comm=None, network_specs=spec_path)\n",
    "            component_count[network.n_components] += 1\n",
    "        duration = time.perf_counter() - start\n",
    "        print(f\"Worst: {duration}, Per Trial: {duration/N}, No. of Components: {network.n_components}\")\n",
    "        print({idx:count for idx, count in enumerate(component_count) if count > 0})\n",
    "        performances[i, 0] = duration / N\n",
    "        # Average Case\n",
    "        component_count = np.zeros((redundant_network.n_components+1))\n",
    "        start = time.perf_counter()\n",
    "        for _ in range(N):\n",
    "            network = CommNetwork(n_devices=n_device, n_entrypoints=1,\n",
    "                                child_no_deviation=0, \n",
    "                                children_per_parent=random.randint(2, n_device),\n",
    "                                network_specs=spec_path)\n",
    "            component_count[network.n_components] += 1\n",
    "        duration = time.perf_counter() - start\n",
    "        print(f\"Average: {duration}, Per Trial: {duration/N}\")\n",
    "        print({idx:count for idx, count in enumerate(component_count) if count > 0})\n",
    "        performances[i, 1] = duration / N\n",
    "\n",
    "        # Best Case\n",
    "        component_count = np.zeros((redundant_network.n_components+1))\n",
    "        start = time.perf_counter()\n",
    "        for _ in range(N):\n",
    "            network = CommNetwork(n_devices=n_device, n_entrypoints=1, child_no_deviation=0,\n",
    "                                  children_per_parent=n_device, network_specs=spec_path)\n",
    "            component_count[network.n_components] += 1\n",
    "        duration = time.perf_counter() - start\n",
    "        print(f\"Best: {duration},  Per Trial: {duration/N}, No. of Components: {network.n_components}\")\n",
    "        print({idx:count for idx, count in enumerate(component_count) if count > 0})\n",
    "        performances[i, 2] = duration / N\n",
    "    return pd.DataFrame(performances, columns=[\"Worst\", \"Average\", \"Best\"], index=n_devices)\n",
    "\n",
    "results = scalability_test(n_devices=[2,4,8,16,32,64,128], N=10000)\n",
    "results.to_csv(Path.cwd() / \"data\" / \"ScalabilityTest.csv\")"
   ]
  },
  {
   "cell_type": "code",
   "execution_count": null,
   "metadata": {},
   "outputs": [],
   "source": [
    "import matplotlib.pyplot as plt\n",
    "import seaborn as sns\n",
    "from matplotlib.ticker import FixedLocator\n",
    "from scipy.stats import linregress\n",
    "plt.rcParams['text.usetex'] = True\n",
    "plt.rcParams['font.size'] = 14\n",
    "plt.figure(figsize=(8,6))\n",
    "worst_fit = linregress(results.index, results.loc[:, \"Worst\"], alternative=\"greater\")\n",
    "avg_fit = linregress(results.index, results.loc[:, \"Average\"], alternative=\"greater\")\n",
    "best_fit = linregress(results.index, results.loc[:, \"Best\"], alternative=\"greater\")\n",
    "y1 = (worst_fit.slope*results.index) + worst_fit.intercept\n",
    "y2 = (avg_fit.slope*results.index) + avg_fit.intercept\n",
    "y3 = (best_fit.slope*results.index) + best_fit.intercept\n",
    "sns.lineplot(x=results.index, y=y1, alpha=0.5)\n",
    "sns.lineplot(x=results.index, y=y2, alpha=0.5)\n",
    "sns.lineplot(x=results.index, y=y3, alpha=0.5)\n",
    "sns.scatterplot(results)\n",
    "ax = plt.gca()\n",
    "ax.annotate(f\"y={worst_fit.slope:.5f}x+{worst_fit.intercept:.5f}\", (results.index[5], y1[5]), xytext=(84, 0.0195),\n",
    "            color=\"blue\", rotation=32)\n",
    "ax.annotate(f\"y={avg_fit.slope:.5f}x+{avg_fit.intercept:.5f}\", (results.index[5], y2[5]), xytext=(84, 0.0115),\n",
    "            color=\"orange\", rotation=15)\n",
    "ax.annotate(f\"y={avg_fit.slope:.5f}x+{avg_fit.intercept:.5f}\", (results.index[5], y3[5]), xytext=(84, 0.01),\n",
    "            color=\"green\", rotation=14)\n",
    "ax.set(xlabel=\"No. of Devices\", ylabel=\"Avg. Time to Generate Network (s)\", ylim=(0, np.max(results)),\n",
    "       xlim=(np.min(results.index), np.max(results.index)))\n",
    "ax.xaxis.set_major_locator(FixedLocator(2**np.arange(1,len(results)+1)))\n",
    "ax.set_xticklabels([f\"$2^{int(j)}$\" for j in np.log2(results.index)])\n",
    "plt.tight_layout()\n",
    "plt.savefig(Path.cwd() / \"media\" / \"Scalability.pdf\", dpi=150)\n",
    "plt.show()"
   ]
  },
  {
   "cell_type": "code",
   "execution_count": null,
   "metadata": {},
   "outputs": [],
   "source": []
  }
 ],
 "metadata": {
  "kernelspec": {
   "display_name": ".venv",
   "language": "python",
   "name": "python3"
  },
  "language_info": {
   "codemirror_mode": {
    "name": "ipython",
    "version": 3
   },
   "file_extension": ".py",
   "mimetype": "text/x-python",
   "name": "python",
   "nbconvert_exporter": "python",
   "pygments_lexer": "ipython3",
   "version": "3.12.3"
  }
 },
 "nbformat": 4,
 "nbformat_minor": 2
}
