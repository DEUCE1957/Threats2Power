{
 "cells": [
  {
   "cell_type": "markdown",
   "metadata": {},
   "source": [
    "# Evaluation\n",
    "This notebook contains code to reproduce the results presented in the Energy Informatics Open Journal. "
   ]
  },
  {
   "cell_type": "markdown",
   "metadata": {},
   "source": [
    "## Testing"
   ]
  },
  {
   "cell_type": "code",
   "execution_count": null,
   "metadata": {},
   "outputs": [],
   "source": [
    "import random\n",
    "import math\n",
    "import warnings\n",
    "import math\n",
    "import numpy as np\n",
    "import pandas as pd\n",
    "import pandapower\n",
    "import inspect\n",
    "import matplotlib.pyplot as plt\n",
    "from ipywidgets import Button, HBox, VBox\n",
    "from pathlib import Path\n",
    "\n",
    "from communication.network import CommNetwork\n",
    "from cyber.analysis import Analyzer\n",
    "from attackers.random_attacker import RandomAttacker\n",
    "\n",
    "def run_experiment(seed:int=0, spec:str=\"Default\", grid:str|Path=\"create_cigre_network_mv\", grid_kwargs:dict={},\n",
    "                   criticality=None, save_name:str|None=None,\n",
    "                   param_name:str=\"children_per_parent\", param_values:list=[2, 3, 5, 8, 13, 21, 34, lambda network: network.n_devices],\n",
    "                   n_attacks:int=1000, flatten:bool=False, auto_compromise_children:bool=False, **kwargs):\n",
    "    np.random.seed(seed); random.seed(seed)\n",
    "    print(f\"Seed: {seed}\")\n",
    "\n",
    "    if param_name == \"n_devices\" and grid is not None:\n",
    "        raise ValueError(f\"Grid should be undefined for device count to be set.\")\n",
    "    grid_map = {name:creator for name, creator in inspect.getmembers(pandapower.networks, predicate=inspect.isfunction)}\n",
    "    with warnings.catch_warnings():\n",
    "        warnings.filterwarnings(action=\"ignore\", category=FutureWarning)\n",
    "        if type(grid) is str:\n",
    "            grid = grid_map.get(grid)(**grid_kwargs) if grid is not None else None\n",
    "        else:\n",
    "            grid = pandapower.from_json(grid)\n",
    "        criticality = criticality(grid, verbose=False)[0] if criticality is not None else criticality\n",
    "        spec_path = Path.cwd() / \"specifications\" / f\"{spec.capitalize()}_specifications.json\"\n",
    "        network = CommNetwork(n_devices=kwargs.get(\"n_devices\", 20),\n",
    "                              n_entrypoints=kwargs.get(\"n_entrypoints\", 1), child_no_deviation=kwargs.get(\"child_no_deviation\", 0),\n",
    "                              children_per_parent=kwargs.get(\"children_per_parent\", 3),\n",
    "                              sibling_to_sibling_comm=kwargs.get(\"sibling_to_sibling_comm\", None),\n",
    "                              criticality=criticality,\n",
    "                              network_specs=spec_path, grid=grid)\n",
    "    print(f\"Number of Components: {network.n_components}\")\n",
    "\n",
    "    # Total number of attacks: no_of_components * N_ATTACKS\n",
    "    param_values = [val(network) if inspect.isfunction(val) else val for val in param_values]\n",
    "    analyzer = Analyzer(network)\n",
    "    exp_desc = '_'.join([w.capitalize() for w in param_name.split('_')])\n",
    "    kwarg_desc = '-'.join(f\"{k}_{v}\" for k,v in kwargs.items())\n",
    "    save_name = save_name if save_name is not None else f\"{exp_desc}\" + (f\"--{kwarg_desc}\" if kwarg_desc else \"\")\n",
    "    archive_path = Path.cwd() / \"data\" / f\"{save_name}.npz\"\n",
    "    print(f\"Archive Path: '{archive_path}'\")\n",
    "\n",
    "    def run_monte(event):\n",
    "        print(\"Running New Monte Carlo Simulation (Estimated Time to Completion: 40 minutes)\")\n",
    "        if len(param_values) > 1:\n",
    "            compromised_array, effort_array, criticality_array = analyzer.monte_carlo_multi_analysis(seed=seed, \n",
    "                                                                                    n_attacks=n_attacks,\n",
    "                                                                                    child_no_deviation=0,\n",
    "                                                                                    grid=grid,\n",
    "                                                                                    vary_entrypoints=kwargs.get(\"vary_entrypoints\", True),\n",
    "                                                                                    effort_only=kwargs.get(\"effort_only\", False),\n",
    "                                                                                    criticality=criticality,\n",
    "                                                                                    auto_compromise_children=auto_compromise_children,\n",
    "                                                                                    param_name=param_name, \n",
    "                                                                                    param_values=param_values)\n",
    "        else:\n",
    "            compromised_array, effort_array, criticality_array = analyzer.monte_carlo_analysis(\n",
    "                n_attacks=n_attacks, attacker_variant=RandomAttacker, budget=kwargs.get(\"budget\",52), device_only=False, \n",
    "                sibling_to_sibling_comm=kwargs.get(\"sibling_to_sibling_comm\", None), vary_entrypoints=kwargs.get(\"vary_entrypoints\", True),\n",
    "                auto_compromise_children=auto_compromise_children,\n",
    "            )\n",
    "        np.savez(archive_path, compromise=compromised_array, effort=effort_array, criticality=criticality_array) # .flatten()\n",
    "        analyzer.plot_monte(save_name=save_name, figsize=((14, 16) if not math.isclose(np.mean(criticality_array), 0) else (14,12)), flatten=flatten)\n",
    "\n",
    "    def load_previous(event):\n",
    "        print(\"Loading Previous Session\")\n",
    "        arrays = np.load(archive_path)\n",
    "        compromised_array = arrays.get(\"compromise\")\n",
    "        effort_array = arrays.get(\"effort\")\n",
    "        criticality_array = arrays.get(\"criticality\", np.zeros_like(compromised_array))\n",
    "        analyzer.res_monte = {**{\"compromised\":compromised_array, \"effort\":effort_array, \"criticality\":criticality_array},\n",
    "                              **({} if len(param_values) == 1 else {\"param_name\":param_name, \"param_values\":param_values})}\n",
    "        analyzer.plot_monte(save_name=save_name, figsize=(14, 16) if \"criticality\" in arrays else (14,12), flatten=flatten)\n",
    "\n",
    "    run_button = Button(description=\"Run Monte\", button_style=\"info\", style=dict(font_size=\"Large\"), continuous_update=False)\n",
    "    run_button.on_click(run_monte)\n",
    "    load_button = Button(description=\"Load Previous\", button_style=\"info\", style=dict(font_size=\"Large\"), continuous_update=False, disabled=False if archive_path.exists() else True)\n",
    "    load_button.on_click(load_previous)\n",
    "    box = HBox([run_button, load_button])\n",
    "    display(box)"
   ]
  },
  {
   "cell_type": "markdown",
   "metadata": {},
   "source": [
    "### Redundancy\n",
    "Investigate the effect of redundancy (no. of children per parent) on the compromise and effort distribution of a communication network. "
   ]
  },
  {
   "cell_type": "code",
   "execution_count": null,
   "metadata": {},
   "outputs": [],
   "source": [
    "run_experiment(seed=0, spec=\"Default\", grid=\"create_cigre_network_mv\", grid_kwargs={\"with_der\":\"all\"},\n",
    "               param_name=\"children_per_parent\", param_values=[2, 3, 5, 8, 13, 21, 34, lambda network: network.n_devices],\n",
    "               flatten=True, auto_compromise_children=False, save_name=\"RedundancyWChildrenAutoCompromised\",\n",
    "               n_attacks=1000)"
   ]
  },
  {
   "cell_type": "markdown",
   "metadata": {},
   "source": [
    "### Budget\n",
    "Investigate the effect of increasing the budget of attackers on the same communication network.\n",
    "Effort Only means probability-of-success on defenses is ignored, if the effort threshold is met then that component is always compromised.\n"
   ]
  },
  {
   "cell_type": "code",
   "execution_count": null,
   "metadata": {},
   "outputs": [],
   "source": [
    "run_experiment(seed=0, spec=\"Default\", grid=\"create_cigre_network_mv\", grid_kwargs={\"with_der\":\"all\"},\n",
    "               param_name=\"budget\", param_values=[0.1, 1, 5, 10, 50, 100], # 250, 500, 1000, 2500, 5000, 10000\n",
    "               children_per_parent = 3,\n",
    "               flatten=True,\n",
    "               effort_only=True, # Ignore success distributions\n",
    "               n_attacks=1000)"
   ]
  },
  {
   "cell_type": "markdown",
   "metadata": {},
   "source": [
    "### Susceptibility"
   ]
  },
  {
   "cell_type": "code",
   "execution_count": null,
   "metadata": {},
   "outputs": [],
   "source": [
    "from cyber.criticality import criticality_by_degree, criticality_by_power_flow, criticality_by_capacity\n",
    "\n",
    "run_experiment(seed=0, spec=\"Default\", grid=\"create_cigre_network_mv\", grid_kwargs={\"with_der\":\"all\"},\n",
    "               param_name=\"budget\", param_values=[52], save_name=\"Susceptibility52\",\n",
    "               children_per_parent = 0, child_no_deviation=3, sibling_to_sibling_comm=\"all\", vary_entrypoints=True,\n",
    "               flatten=True,\n",
    "               criticality=criticality_by_capacity, \n",
    "               n_attacks=10000)"
   ]
  },
  {
   "cell_type": "markdown",
   "metadata": {},
   "source": [
    "### Sibling-to-Sibling Communication\n"
   ]
  },
  {
   "cell_type": "code",
   "execution_count": null,
   "metadata": {},
   "outputs": [],
   "source": [
    "run_experiment(seed=0, spec=\"Default\", grid=\"create_cigre_network_mv\", grid_kwargs={\"with_der\":\"all\"},\n",
    "               param_name=\"sibling_to_sibling_comm\", param_values=[False, \"adjacent\", \"all\"],\n",
    "               vary_entrypoints=True,\n",
    "               save_name=\"siblings\",\n",
    "               flatten=True,\n",
    "               n_attacks=10000)"
   ]
  },
  {
   "cell_type": "markdown",
   "metadata": {},
   "source": [
    "### Vary Entrypoints\n",
    "Show effect of attacking from different entrypoints, using colorscale instead of a Legend."
   ]
  },
  {
   "cell_type": "code",
   "execution_count": null,
   "metadata": {},
   "outputs": [],
   "source": [
    "run_experiment(seed=0, spec=\"Default\", grid=\"create_cigre_network_mv\", grid_kwargs={\"with_der\":\"all\"},\n",
    "               param_name=\"budget\", param_values=[52], save_name=\"VariedEntrypoints\",\n",
    "               children_per_parent = 0, child_no_deviation=3, sibling_to_sibling_comm=\"all\", vary_entrypoints=True,\n",
    "               flatten=False,\n",
    "               criticality=criticality_by_capacity, \n",
    "               n_attacks=10000)"
   ]
  },
  {
   "cell_type": "markdown",
   "metadata": {},
   "source": [
    "### Static Analysis"
   ]
  },
  {
   "cell_type": "markdown",
   "metadata": {},
   "source": [
    "#### Scalability"
   ]
  },
  {
   "cell_type": "code",
   "execution_count": null,
   "metadata": {},
   "outputs": [],
   "source": [
    "import time\n",
    "import seaborn as sns\n",
    "from tqdm.notebook import trange\n",
    "REPETITIONS = 100\n",
    "device_counts = [5,4,3,2]\n",
    "spec_path = Path.cwd() / \"specifications\" / \"Default_specifications.json\"\n",
    "time_taken = {}\n",
    "for i in trange(REPETITIONS):\n",
    "    for j, n_devices in enumerate(device_counts):\n",
    "        network = CommNetwork(n_devices=n_devices, n_entrypoints=1, children_per_parent=np.random.randint(1,n_devices), child_no_deviation=np.random.randint(1,n_devices), sibling_to_sibling_comm=\"all\",\n",
    "                            network_specs=spec_path)\n",
    "        n_comp = network.n_components\n",
    "        analyzer = Analyzer(network)\n",
    "        # Time how long static analysis takes to complete\n",
    "        start = time.perf_counter()\n",
    "        _ = analyzer.static_analysis(verbose=False)\n",
    "        end = time.perf_counter()\n",
    "        time_taken[n_comp] = [end-start] if n_comp not in time_taken else time_taken[n_comp] + [end-start]\n",
    "        # print(f\"No. of Devices: {n_devices}, Components: {n_comp}, Time Taken: {end-start}s\")"
   ]
  },
  {
   "cell_type": "code",
   "execution_count": null,
   "metadata": {},
   "outputs": [],
   "source": [
    "fig = plt.figure(figsize=(6,5))\n",
    "avg_time_taken = pd.DataFrame([{i:np.mean(vals) for i,vals in time_taken.items()}])\n",
    "\n",
    "sns.scatterplot(x=[0,1,2,3,4,5,6], y=avg_time_taken.T.sort_index()[0], marker='X', color=\"k\", zorder=4, legend=None, ax=plt.gca())\n",
    "sns.swarmplot(time_taken, size=2, log_scale=True, ax=plt.gca())\n",
    "plt.gca().set(xlabel=\"No. of Components in Network\", ylabel=\"Time Taken to Analyze (s)\")\n",
    "plt.tight_layout()\n",
    "plt.savefig(Path.cwd() / \"media\" / \"Scalability.pdf\")"
   ]
  },
  {
   "cell_type": "markdown",
   "metadata": {},
   "source": [
    "#### Comparison to Monte Carlo Approach"
   ]
  },
  {
   "cell_type": "code",
   "execution_count": null,
   "metadata": {},
   "outputs": [],
   "source": [
    "network = CommNetwork(n_devices=3, n_entrypoints=1, children_per_parent=2, child_no_deviation=0, sibling_to_sibling_comm=\"all\",\n",
    "                      network_specs=spec_path)\n",
    "analyzer = Analyzer(network)\n",
    "static_distr = analyzer.static_analysis(verbose=False, show_paths=False)\n",
    "attack_counts = [1, 10, 100, 1000, 10000] # Per Entrypoint\n",
    "monte_distrs = {}\n",
    "for i, n_attacks in enumerate(attack_counts):\n",
    "    comp_distr, *_ = analyzer.monte_carlo_analysis(n_attacks=n_attacks, budget=999999999, device_only=False, vary_entrypoints=True)\n",
    "    vals, counts = np.unique(comp_distr, return_counts=True)\n",
    "    monte_distr = {val:count/np.sum(counts) for val, count in zip(vals, counts)}\n",
    "    monte_distrs[n_attacks] = monte_distr"
   ]
  },
  {
   "cell_type": "code",
   "execution_count": null,
   "metadata": {},
   "outputs": [],
   "source": [
    "df = []\n",
    "for key, distr in monte_distrs.items():\n",
    "    for n_comp, prob in distr.items():\n",
    "        df.append([f\"Monte w. {key} runs\" if isinstance(key, int) else f\"Static Analysis\", n_comp, prob])\n",
    "df = pd.DataFrame(df, columns=[\"Type\", \"Components\", \"Probs\"])\n",
    "fig = plt.figure(figsize=(6,5))\n",
    "sns.barplot(df, x=\"Components\", y=\"Probs\", hue=\"Type\", errorbar=None, gap=0)\n",
    "plt.gca().set(xlabel=\"No. of Components Compromised\", ylabel=\"Probability\")\n",
    "plt.tight_layout()\n",
    "plt.savefig(Path.cwd() / \"media\" / \"StaticAnalysis.pdf\")\n",
    "plt.show()"
   ]
  },
  {
   "cell_type": "markdown",
   "metadata": {},
   "source": [
    "### Use on Real Grid"
   ]
  },
  {
   "cell_type": "code",
   "execution_count": null,
   "metadata": {},
   "outputs": [
    {
     "name": "stderr",
     "output_type": "stream",
     "text": []
    }
   ],
   "source": [
    "from cyber.criticality import criticality_by_degree, criticality_by_power_flow, criticality_by_capacity\n",
    "run_experiment(seed=0, spec=\"Default\", grid=Path.cwd() / \"data\" / \"SpanishLVNetwork\" / \"RunDss\" / \"grid.json\", grid_kwargs={},\n",
    "               param_name=\"budget\", param_values=[52], save_name=\"SpanishLVSusceptibility\",\n",
    "               children_per_parent = 32, child_no_deviation=8, sibling_to_sibling_comm=\"all\", vary_entrypoints=True,\n",
    "               flatten=True,\n",
    "               criticality=criticality_by_capacity, \n",
    "               n_attacks=1000)"
   ]
  },
  {
   "cell_type": "code",
   "execution_count": null,
   "metadata": {},
   "outputs": [],
   "source": []
  }
 ],
 "metadata": {
  "kernelspec": {
   "display_name": ".venv",
   "language": "python",
   "name": "python3"
  },
  "language_info": {
   "codemirror_mode": {
    "name": "ipython",
    "version": 3
   },
   "file_extension": ".py",
   "mimetype": "text/x-python",
   "name": "python",
   "nbconvert_exporter": "python",
   "pygments_lexer": "ipython3",
   "version": "3.12.2"
  }
 },
 "nbformat": 4,
 "nbformat_minor": 2
}
