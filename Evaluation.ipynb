{
 "cells": [
  {
   "cell_type": "markdown",
   "metadata": {},
   "source": [
    "# Evaluation\n",
    "This notebook contains code to reproduce the results presented in the Energy Informatics Open Journal. "
   ]
  },
  {
   "cell_type": "markdown",
   "metadata": {},
   "source": [
    "## Testing"
   ]
  },
  {
   "cell_type": "markdown",
   "metadata": {},
   "source": [
    "### Redundancy"
   ]
  },
  {
   "cell_type": "code",
   "execution_count": null,
   "metadata": {},
   "outputs": [],
   "source": [
    "import random\n",
    "import warnings\n",
    "import numpy as np\n",
    "import pandapower\n",
    "from pathlib import Path as p\n",
    "\n",
    "from communication.network import CommNetwork\n",
    "from cyber.analysis import Analyzer\n",
    "from attackers.random_attacker import RandomAttacker\n",
    "\n",
    "seed = 42\n",
    "np.random.seed(seed); random.seed(seed)\n",
    "print(f\"Seed: {seed}\")\n",
    "\n",
    "with warnings.catch_warnings():\n",
    "    warnings.filterwarnings(action=\"ignore\", category=FutureWarning)\n",
    "    grid=pandapower.networks.create_cigre_network_mv(with_der=\"all\")\n",
    "    print(grid)\n",
    "    spec_path = p.cwd() / \"specifications\" / \"Default_specifications.json\"\n",
    "    network = CommNetwork(n_devices=3, n_entrypoints=1, children_per_parent=2, child_no_deviation=0, sibling_to_sibling_comm=None,\n",
    "                          network_specs=spec_path, grid=grid)\n",
    "print(CommNetwork.show_tree(network.root))\n",
    "print(f\"Number of Components: {network.n_components}\")\n",
    "\n",
    "\n",
    "N_ATTACKS = 1000 # Total number of attacks: no_of_components * N_ATTACKS\n",
    "PARAM_NAME = \"children_per_parent\"\n",
    "param_values = [2, 3, 5, 8, 13, 21, 34, network.n_devices]\n",
    "analyzer = Analyzer(network)\n",
    "# Estimated Time: 40m (6 core CPU)\n",
    "compromised_array, effort_array, _ = analyzer.monte_carlo_multi_analysis(seed=seed, \n",
    "                                                                         n_attacks=N_ATTACKS,\n",
    "                                                                         child_no_deviation=0,\n",
    "                                                                         grid=grid,\n",
    "                                                                         vary_entrypoints=True,\n",
    "                                                                         param_name=PARAM_NAME, \n",
    "                                                                         param_values=param_values)\n",
    "np.savez(p.cwd() / \"data\" / \"Redundancy_NoSiblings.npz\", compromise=compromised_array, effort=effort_array)"
   ]
  },
  {
   "cell_type": "code",
   "execution_count": null,
   "metadata": {},
   "outputs": [],
   "source": [
    "import numpy as np\n",
    "import pandas as pd\n",
    "import matplotlib.pyplot as plt\n",
    "import seaborn as sns\n",
    "from pathlib import Path as p\n",
    "arrays = np.load(p.cwd() / \"data\" / \"Redundancy_NoSiblings.npz\")\n",
    "compromised_array = arrays.get(\"compromise\")\n",
    "effort_array = arrays.get(\"effort\")\n",
    "PARAM_NAME = \"children_per_parent\"\n",
    "param_values = [2, 3, 5, 8, 13, 21, 34, network.n_devices]\n",
    "\n",
    "def plot_multi_monte(results, save_name=\"MultiMonte\"):\n",
    "    # Reshape to collapse all entrypoint variations into the first dimension\n",
    "    n_attacks, n_entrypoints, n_params = results[\"compromised\"].shape\n",
    "    results[\"compromised\"] = np.reshape(results[\"compromised\"], (n_attacks*n_entrypoints, n_params))\n",
    "    # Create Pandas Dataframe (to name attributes)\n",
    "    df = pd.DataFrame(results[\"compromised\"], columns=results[\"param_values\"])\n",
    "    df = df.melt(var_name=results[\"param_name\"])\n",
    "\n",
    "    fig, ax = plt.subplots(nrows=1, ncols=1, figsize=(8,6))\n",
    "    sns.set_context(font_scale=2.0)\n",
    "    sns.histplot(df, x=\"value\", hue=results[\"param_name\"], discrete=True, stat=\"probability\", common_norm=False, ax=ax)\n",
    "    sns.move_legend(ax, \"upper right\", ncols=4, title=\" \".join([word.capitalize() for word in results[\"param_name\"].split(\"_\")]))\n",
    "    ax.set(xlabel=\"No. of Devices Compromised\", yscale=\"log\")\n",
    "    fig.savefig(p.cwd() / \"media\" / f\"{save_name}.pdf\")\n",
    "    plt.show()\n",
    "    \n",
    "plot_multi_monte(results={\"compromised\":compromised_array, \"effort\":effort_array, \"param_name\":PARAM_NAME, \"param_values\":param_values}, save_name=\"Redundancy\")"
   ]
  },
  {
   "cell_type": "markdown",
   "metadata": {},
   "source": [
    "### Budget\n"
   ]
  },
  {
   "cell_type": "code",
   "execution_count": null,
   "metadata": {},
   "outputs": [],
   "source": [
    "import random\n",
    "import warnings\n",
    "import numpy as np\n",
    "import pandapower\n",
    "from pathlib import Path as p\n",
    "\n",
    "from communication.network import CommNetwork\n",
    "from cyber.analysis import Analyzer\n",
    "from attackers.random_attacker import RandomAttacker\n",
    "\n",
    "seed = 42\n",
    "np.random.seed(seed); random.seed(seed)\n",
    "print(f\"Seed: {seed}\")\n",
    "\n",
    "with warnings.catch_warnings():\n",
    "    warnings.filterwarnings(action=\"ignore\", category=FutureWarning)\n",
    "    grid=pandapower.networks.create_cigre_network_mv(with_der=\"all\")\n",
    "    print(grid)\n",
    "    spec_path = p.cwd() / \"specifications\" / \"Default_specifications.json\"\n",
    "    network = CommNetwork(n_devices=3, n_entrypoints=1, children_per_parent=2, child_no_deviation=0, sibling_to_sibling_comm=\"all\",\n",
    "                          effort_only=True, network_specs=spec_path, grid=grid)\n",
    "print(CommNetwork.show_tree(network.root))\n",
    "print(f\"Number of Components: {network.n_components}\")\n",
    "\n",
    "\n",
    "N_ATTACKS = 1000 # Total number of attacks: no_of_components * N_ATTACKS\n",
    "PARAM_NAME = \"budget\"\n",
    "param_values = [0.1, 1, 5, 10, 50, 100, 250, 500, 1000, 2500, 5000, 10000]\n",
    "analyzer = Analyzer(network)\n",
    "# Estimated Time: 37m (6 CPU cores)\n",
    "compromised_array, effort_array, _ = analyzer.monte_carlo_multi_analysis(seed=seed, \n",
    "                                                                         n_attacks=N_ATTACKS,\n",
    "                                                                         children_per_parent=3,\n",
    "                                                                         child_no_deviation=0,\n",
    "                                                                         grid=grid,\n",
    "                                                                         effort_only=True,\n",
    "                                                                         vary_entrypoints=True, \n",
    "                                                                         param_name=PARAM_NAME, \n",
    "                                                                         param_values=param_values)\n",
    "np.savez(p.cwd() / \"data\" / \"Budget_EffortOnly.npz\", compromise=compromised_array, effort=effort_array)"
   ]
  },
  {
   "cell_type": "code",
   "execution_count": null,
   "metadata": {},
   "outputs": [],
   "source": [
    "import numpy as np\n",
    "import pandas as pd\n",
    "import matplotlib.pyplot as plt\n",
    "import seaborn as sns\n",
    "from pathlib import Path as p\n",
    "arrays = np.load(p.cwd() / \"data\" / \"Budget_EffortOnly.npz\")\n",
    "compromised_array = arrays.get(\"compromise\")\n",
    "effort_array = arrays.get(\"effort\")\n",
    "PARAM_NAME = \"budget\"\n",
    "param_values = [0.1, 1, 5, 10, 50, 100, 250, 500, 1000, 2500, 5000, 10000]\n",
    "\n",
    "plot_multi_monte(results={\"compromised\":compromised_array, \"effort\":effort_array, \"param_name\":PARAM_NAME, \"param_values\":param_values}, save_name=\"Budget_EffortOnly\")"
   ]
  },
  {
   "cell_type": "markdown",
   "metadata": {},
   "source": [
    "### Susceptibility"
   ]
  },
  {
   "cell_type": "code",
   "execution_count": null,
   "metadata": {},
   "outputs": [],
   "source": []
  }
 ],
 "metadata": {
  "kernelspec": {
   "display_name": ".venv",
   "language": "python",
   "name": "python3"
  },
  "language_info": {
   "codemirror_mode": {
    "name": "ipython",
    "version": 3
   },
   "file_extension": ".py",
   "mimetype": "text/x-python",
   "name": "python",
   "nbconvert_exporter": "python",
   "pygments_lexer": "ipython3",
   "version": "3.12.1"
  }
 },
 "nbformat": 4,
 "nbformat_minor": 2
}
