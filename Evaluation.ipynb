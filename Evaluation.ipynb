{
 "cells": [
  {
   "cell_type": "markdown",
   "metadata": {},
   "source": [
    "# Evaluation\n",
    "This notebook contains code to reproduce the results presented in the Energy Informatics Open Journal. "
   ]
  },
  {
   "cell_type": "markdown",
   "metadata": {},
   "source": [
    "## Testing"
   ]
  },
  {
   "cell_type": "code",
   "execution_count": null,
   "metadata": {},
   "outputs": [],
   "source": [
    "import random\n",
    "import warnings\n",
    "import numpy as np\n",
    "import pandapower\n",
    "import inspect\n",
    "from ipywidgets import Button, HBox, VBox\n",
    "from pathlib import Path\n",
    "\n",
    "from communication.network import CommNetwork\n",
    "from cyber.analysis import Analyzer\n",
    "from attackers.random_attacker import RandomAttacker\n",
    "\n",
    "def run_experiment(seed:int=42, spec:str=\"Default\", grid:str=\"create_cigre_network_mv\", grid_kwargs:dict={},\n",
    "                   criticality=None, save_name:str|None=None,\n",
    "                   param_name:str=\"children_per_parent\", param_values:list=[2, 3, 5, 8, 13, 21, 34, lambda network: network.n_devices],\n",
    "                   n_attacks:int=1000, **kwargs):\n",
    "    np.random.seed(seed); random.seed(seed)\n",
    "    print(f\"Seed: {seed}\")\n",
    "\n",
    "    grid_map = {name:creator for name, creator in inspect.getmembers(pandapower.networks, predicate=inspect.isfunction)}\n",
    "    with warnings.catch_warnings():\n",
    "        warnings.filterwarnings(action=\"ignore\", category=FutureWarning)\n",
    "        grid = grid_map.get(grid)(**grid_kwargs)\n",
    "        criticality = criticality(grid, verbose=False)[0] if criticality is not None else criticality\n",
    "        spec_path = Path.cwd() / \"specifications\" / f\"{spec.capitalize()}_specifications.json\"\n",
    "        network = CommNetwork(n_entrypoints=kwargs.get(\"n_entrypoints\", 1), child_no_deviation=kwargs.get(\"child_no_deviation\", 0),\n",
    "                              children_per_parent=kwargs.get(\"children_per_parent\", 3),\n",
    "                              sibling_to_sibling_comm=kwargs.get(\"sibling_to_sibling_comm\", None),\n",
    "                              criticality=criticality,\n",
    "                              network_specs=spec_path, grid=grid)\n",
    "    print(f\"Number of Components: {network.n_components}\")\n",
    "\n",
    "    # Total number of attacks: no_of_components * N_ATTACKS\n",
    "    param_values = [val(network) if inspect.isfunction(val) else val for val in param_values]\n",
    "    analyzer = Analyzer(network)\n",
    "    exp_desc = '_'.join([w.capitalize() for w in param_name.split('_')])\n",
    "    kwarg_desc = '-'.join(f\"{k}_{v}\" for k,v in kwargs.items())\n",
    "    save_name = save_name if save_name is not None else f\"{exp_desc}\" + (f\"--{kwarg_desc}\" if kwarg_desc else \"\")\n",
    "    archive_path = Path.cwd() / \"data\" / f\"{save_name}.npz\"\n",
    "    print(f\"Archive Path: '{archive_path}'\")\n",
    "\n",
    "    def run_monte(event):\n",
    "        print(\"Running New Monte Carlo Simulation (Estimated Time to Completion: 40 minutes)\")\n",
    "        if len(param_values) > 1:\n",
    "            compromised_array, effort_array, criticality_array = analyzer.monte_carlo_multi_analysis(seed=seed, \n",
    "                                                                                    n_attacks=n_attacks,\n",
    "                                                                                    child_no_deviation=0,\n",
    "                                                                                    grid=grid,\n",
    "                                                                                    vary_entrypoints=kwargs.get(\"vary_entrypoints\", True),\n",
    "                                                                                    effort_only=kwargs.get(\"effort_only\", False),\n",
    "                                                                                    criticality=criticality,\n",
    "                                                                                    param_name=param_name, \n",
    "                                                                                    param_values=param_values)\n",
    "        else:\n",
    "            compromised_array, effort_array, criticality_array = analyzer.monte_carlo_analysis(\n",
    "                n_attacks=n_attacks, attacker_variant=RandomAttacker, budget=kwargs.get(\"budget\",52), device_only=False, \n",
    "                sibling_to_sibling_comm=kwargs.get(\"sibling_to_sibling_comm\", None), vary_entrypoints=kwargs.get(\"vary_entrypoints\", True),\n",
    "            )\n",
    "        np.savez(archive_path, compromise=compromised_array.flatten(), effort=effort_array.flatten(), criticality=criticality_array.flatten())\n",
    "        analyzer.plot_monte(save_name=save_name, figsize=(14,12), flatten=True)\n",
    "\n",
    "    def load_previous(event):\n",
    "        print(\"Loading Previous Session\")\n",
    "        arrays = np.load(archive_path)\n",
    "        compromised_array = arrays.get(\"compromise\")\n",
    "        effort_array = arrays.get(\"effort\")\n",
    "        criticality_array = arrays.get(\"criticality\", np.zeros_like(compromised_array))\n",
    "        analyzer.res_monte = {**{\"compromised\":compromised_array, \"effort\":effort_array, \"criticality\":criticality_array},\n",
    "                              **({} if len(param_values) == 1 else {\"param_name\":param_name, \"param_values\":param_values})}\n",
    "        analyzer.plot_monte(save_name=save_name, figsize=(14, 12), flatten=True)\n",
    "\n",
    "    run_button = Button(description=\"Run Monte\", button_style=\"info\", style=dict(font_size=\"Large\"), continuous_update=False)\n",
    "    run_button.on_click(run_monte)\n",
    "    load_button = Button(description=\"Load Previous\", button_style=\"info\", style=dict(font_size=\"Large\"), continuous_update=False, disabled=False if archive_path.exists() else True)\n",
    "    load_button.on_click(load_previous)\n",
    "    box = HBox([run_button, load_button])\n",
    "    display(box)"
   ]
  },
  {
   "cell_type": "markdown",
   "metadata": {},
   "source": [
    "### Redundancy\n",
    "Investigate the effect of redundancy (no. of children per parent) on the compromise and effort distribution of a communication network. "
   ]
  },
  {
   "cell_type": "code",
   "execution_count": null,
   "metadata": {},
   "outputs": [],
   "source": [
    "run_experiment(seed=42, spec=\"Default\", grid=\"create_cigre_network_mv\", grid_kwargs={\"with_der\":\"all\"},\n",
    "               param_name=\"children_per_parent\", param_values=[2, 3, 5, 8, 13, 21, 34, lambda network: network.n_devices],\n",
    "               n_attacks=1000)"
   ]
  },
  {
   "cell_type": "markdown",
   "metadata": {},
   "source": [
    "### Budget\n",
    "Investigate the effect of increasing the budget of attackers on the same communication network.\n",
    "Effort Only means probability-of-success on defenses is ignored, if the effort threshold is met then that component is always compromised.\n"
   ]
  },
  {
   "cell_type": "code",
   "execution_count": null,
   "metadata": {},
   "outputs": [],
   "source": [
    "run_experiment(seed=42, spec=\"Default\", grid=\"create_cigre_network_mv\", grid_kwargs={\"with_der\":\"all\"},\n",
    "               param_name=\"budget\", param_values=[0.1, 1, 5, 10, 50, 100], # 250, 500, 1000, 2500, 5000, 10000\n",
    "               children_per_parent = 3,\n",
    "               effort_only=True, # Ignore success distributions\n",
    "               n_attacks=1000)"
   ]
  },
  {
   "cell_type": "markdown",
   "metadata": {},
   "source": [
    "### Susceptibility"
   ]
  },
  {
   "cell_type": "code",
   "execution_count": null,
   "metadata": {},
   "outputs": [],
   "source": [
    "from cyber.criticality import criticality_by_degree, criticality_by_power_flow, criticality_by_capacity\n",
    "\n",
    "run_experiment(seed=42, spec=\"Default\", grid=\"create_cigre_network_mv\", grid_kwargs={\"with_der\":\"all\"},\n",
    "               param_name=\"budget\", param_values=[520], save_name=\"Susceptibility\",\n",
    "               children_per_parent = 0, child_no_deviation=3, sibling_to_sibling_comm=\"all\", vary_entrypoints=True,\n",
    "               criticality=criticality_by_capacity, \n",
    "               n_attacks=10000)"
   ]
  },
  {
   "cell_type": "code",
   "execution_count": null,
   "metadata": {},
   "outputs": [],
   "source": [
    "import matplotlib.pyplot as plt\n",
    "import matplotlib as mpl\n",
    "import seaborn as sns\n",
    "\n",
    "criticality = np.load(Path.cwd() / \"data\" / f\"Susceptibility.npz\").get(\"criticality\")\n",
    "\n",
    "fig = plt.figure(figsize=(14,12))\n",
    "gs = mpl.gridspec.GridSpec(nrows=3, ncols=2, figure=fig, width_ratios=(0.95, 0.05))\n",
    "ax = fig.add_subplot(gs[2, :])\n",
    "\n",
    "sns.histplot(criticality, binwidth=0.1, binrange=(0, network.maximum_criticality), stat=\"probability\", label=\"Bin Width: 0.1\", zorder=0, ax=ax)\n",
    "sns.histplot(criticality, binwidth=1.0, binrange=(0, network.maximum_criticality), stat=\"probability\", label=\"Bin Width: 1.0\", zorder=-1, ax=ax)\n",
    "sns.histplot(criticality, binwidth=5.0, binrange=(0, network.maximum_criticality), stat=\"probability\", label=\"Bin Width: 5.0\", zorder=-2, ax=ax)\n",
    "ax.vlines(x=[np.mean(criticality)], ymin=0, ymax=ax.get_ylim()[1], label=\"Mean\", zorder=1,\n",
    "            color=\"red\", linestyles=\"--\")\n",
    "ax.legend()\n",
    "ax.set(xlabel=\"Criticality\", yscale=\"log\")\n",
    "plt.show()"
   ]
  },
  {
   "cell_type": "code",
   "execution_count": null,
   "metadata": {},
   "outputs": [],
   "source": []
  }
 ],
 "metadata": {
  "kernelspec": {
   "display_name": ".venv",
   "language": "python",
   "name": "python3"
  },
  "language_info": {
   "codemirror_mode": {
    "name": "ipython",
    "version": 3
   },
   "file_extension": ".py",
   "mimetype": "text/x-python",
   "name": "python",
   "nbconvert_exporter": "python",
   "pygments_lexer": "ipython3",
   "version": "3.12.2"
  }
 },
 "nbformat": 4,
 "nbformat_minor": 2
}
