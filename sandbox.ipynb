{
 "cells": [
  {
   "cell_type": "markdown",
   "metadata": {},
   "source": [
    "# Sandbox\n",
    "For testing and developing new Cyber Security Assessment tools in an interactive and persistent development environment."
   ]
  },
  {
   "cell_type": "code",
   "execution_count": null,
   "metadata": {},
   "outputs": [],
   "source": [
    "import itertools\n",
    "import json\n",
    "import copy\n",
    "import random\n",
    "import warnings\n",
    "import math\n",
    "import numpy as np\n",
    "import networkx as nx\n",
    "import matplotlib.pyplot as plt\n",
    "import scipy.stats.distributions as distr\n",
    "import seaborn as sns\n",
    "import pandapower\n",
    "from pathlib import Path as p\n",
    "\n",
    "from cyber.assets import Defence, Vulnerability, CommmonDefences, CyberDevice\n",
    "from communication.graph import CommNode, CommEdge\n",
    "from communication.network import Aggregator, Device, CommNetwork\n",
    "from attackers.random_attacker import RandomAttacker\n",
    "from cyber.analysis import Analyzer\n",
    "from visualization.network import plot_communication_network\n",
    "from visualization.grid import plot_physical_grid"
   ]
  },
  {
   "cell_type": "markdown",
   "metadata": {},
   "source": [
    "## Procedural Generation\n",
    "### Abstract Tree\n",
    "Consists of Devices and Aggregators. \n",
    "* Aggregators (internal nodes) require a **Hard** amount of effort to compromise and have a 50% chance of being compromised if the necessary effort is spent\n",
    "* Devices (leaf nodes) require an **Easy** amount of effort to compromise and also have a 50% chance of being compromised if the necesssary effort is spent\n",
    "* Control Center (root node) is **Very Hard** to compromise\n",
    "\n",
    "Controllable parameters include:\n",
    "* Number of devices (leaf nodes)\n",
    "* Number of Entrypoints (points where cyberattacks can originate)\n",
    "* Number of children per parent node (inversely proportional to redundancy)\n",
    "* Random deviation in number of children\n",
    "* Sibling to Sibling communication (lateral edges between nodes on the same level)"
   ]
  },
  {
   "cell_type": "code",
   "execution_count": null,
   "metadata": {},
   "outputs": [],
   "source": [
    "seed = 7977 # np.random.randint(low=0, high=52600)\n",
    "np.random.seed(seed); random.seed(seed)\n",
    "print(f\"Seed: {np.random.get_state()[1][0]}\")\n",
    "\n",
    "with warnings.catch_warnings():\n",
    "    warnings.filterwarnings(action=\"ignore\", category=FutureWarning)\n",
    "    grid=pandapower.networks.create_cigre_network_mv(with_der=\"all\")\n",
    "    print(grid)\n",
    "    spec_path = p.cwd() / \"specifications\" / \"SmartMeter_specifications.json\"\n",
    "    network = CommNetwork(n_devices=6, n_entrypoints=1, children_per_parent=5, child_no_deviation=0, enable_sibling_to_sibling_comm=True,\n",
    "                    network_specs=spec_path, \n",
    "                    # \"Default_specifications.json\", \"SmartMeter_specifications.json\", \"SCADA_specifications.json\", ...\n",
    "                    # \"WAMS_specifications.json\", \"Protection_specifications.json\"\n",
    "                    grid=grid,\n",
    "                    )\n",
    "print(CommNetwork.show_tree(network.root))\n",
    "print(f\"Number of Components: {network.n_components}\")\n",
    "\n",
    "analyzer = Analyzer(network)\n",
    "attacker = RandomAttacker(budget=52, verbose=False)"
   ]
  },
  {
   "cell_type": "markdown",
   "metadata": {},
   "source": [
    "## Visualization\n",
    "Plot the structure of the communication network. "
   ]
  },
  {
   "cell_type": "code",
   "execution_count": null,
   "metadata": {},
   "outputs": [],
   "source": [
    "from matplotlib.patches import ConnectionPatch\n",
    "from visualization.patches import ElectricalPatchHandler\n",
    "\n",
    "for attempt_no in range(20):\n",
    "    attacker.attack_network(network)\n",
    "\n",
    "fig, axes = plt.subplots(nrows=1, ncols=2, figsize=(16,20))\n",
    "handles1, labels1, tree_pos = plot_communication_network(network, attacker=None, palette=\"tab10\", save_name=\"SmartMeter\", ax=axes[0], show=False, show_legend=False, invert=True) \n",
    "handles2, labels2, coords = plot_physical_grid(network, size=0.2, distance=0.5, displace=False, ax=axes[1], show=False, show_legend=False)\n",
    "\n",
    "# Visualize connections between communication devices and physical equipment\n",
    "for device, pos in tree_pos.items():\n",
    "    if isinstance(device, Device):\n",
    "        kind, idx = device.equipment.kind, int(device.equipment.name)\n",
    "        con = ConnectionPatch(xyA=coords[kind][idx], xyB=pos, coordsA=\"data\", coordsB=\"data\",\n",
    "                              axesA=axes[1], axesB=axes[0], color=\"red\" if device.is_compromised else \"purple\", alpha=0.6, linestyle=(0, (3, 10, 1, 10, 1, 10)), lw=1, zorder=-10)\n",
    "        axes[1].add_artist(con)\n",
    "\n",
    "# Combine the 2 legends\n",
    "handles = list(handles1) + list(handles2)\n",
    "labels = list(labels1) + list(labels2)\n",
    "ITEMS_PER_ROW = 5\n",
    "ncol = min(ITEMS_PER_ROW, len(labels))\n",
    "nrows = 1 + (len(labels) // ITEMS_PER_ROW)\n",
    "fig.legend(labels=labels, handles=handles, loc=\"lower center\", bbox_to_anchor=(0.5, 0.05-0.01*nrows), ncol=ncol,\n",
    "           handler_map={patch_maker:ElectricalPatchHandler() for patch_maker in handles2},\n",
    "           title=\"Legend\", fancybox=True, fontsize='large', title_fontsize='larger')\n",
    "plt.tight_layout()\n",
    "file_name = input('Name of file')\n",
    "fig.savefig(p.cwd() / \"media\" / f\"{file_name}.pdf\")\n",
    "fig.savefig(p.cwd() / \"media\" / f\"{file_name}.png\")\n",
    "plt.show()\n",
    "network.reset()"
   ]
  },
  {
   "cell_type": "code",
   "execution_count": null,
   "metadata": {},
   "outputs": [],
   "source": [
    "\n",
    "node_fc, node_ec, line_ec, node_to_pos = plot_communication_network(network,\n",
    "                                                                    attacker=None, # Visualize compromise\n",
    "                                                                    palette=\"tab10\", # \"tab10\" (default), \"Set2\", \"Paired\", \"flare\"\n",
    "                                                                    save_name=\"SmartMeter\", # If provided, saves to media / SAVE_NAME.pdf \n",
    "                                                                    figsize=(10,20),\n",
    "                                                                    show_legend=False, invert=True) "
   ]
  },
  {
   "cell_type": "markdown",
   "metadata": {},
   "source": [
    "### Electrical Grid\n",
    "Visualize the electrical grid that the communication network is connected to."
   ]
  },
  {
   "cell_type": "code",
   "execution_count": null,
   "metadata": {},
   "outputs": [],
   "source": [
    "plot_physical_grid(network, size=0.2, distance=0.5, displace=False, save_name=\"CIGRE-SCADA\", figsize=(20,10))"
   ]
  },
  {
   "cell_type": "code",
   "execution_count": null,
   "metadata": {},
   "outputs": [],
   "source": [
    "from visualization.patches import ElectricalPatchMaker\n",
    "\n",
    "symbols = [\"trafo\", \"ext_grid\", \"line_switch\", \"sgen\", \"load\", \"bus\"]\n",
    "nrows = len(symbols) // 2 + (1 if len(symbols) % 2 != 0 else 0)\n",
    "ncols = min(2, 1 + (len(symbols) // 2))\n",
    "fig, axes = plt.subplots(figsize=(ncols*5,nrows*5), sharex=True, sharey=True,\n",
    "                         nrows=nrows, ncols=ncols)\n",
    "for i, patch_maker in enumerate(symbols):\n",
    "    pm = ElectricalPatchMaker(symbol=patch_maker, edgecolor=\"black\", facecolor=\"None\", lw=3)\n",
    "    ax = axes[i] if nrows == 1 else axes[i // 2, i % 2]\n",
    "    ax.add_patch(pm.patch)\n",
    "    \n",
    "    ax.plot([pm.centroid[0]], [pm.centroid[1]], marker=\"*\", markersize=5, color=\"black\", zorder=10)\n",
    "    ax.set(xlim=(-2, 2), ylim=(-2, 2), title=patch_maker, xticks=[], yticks=[])\n",
    "plt.show()"
   ]
  },
  {
   "cell_type": "markdown",
   "metadata": {},
   "source": [
    "## Analysis"
   ]
  },
  {
   "cell_type": "markdown",
   "metadata": {},
   "source": [
    "### Monte Carlo\n",
    "Build an approximate profile of the network's cyber security by launching many cyber attacks. The higher N_ATTACKS the more precise the resulting distribution is, however this comes at the cost of increased computation time.\n",
    "The more nodes are compromised, the more successful the attack."
   ]
  },
  {
   "cell_type": "markdown",
   "metadata": {},
   "source": [
    "#### Active Graph Only\n",
    "Only perform Monte Carlo simulation on the currently active network."
   ]
  },
  {
   "cell_type": "code",
   "execution_count": null,
   "metadata": {},
   "outputs": [],
   "source": [
    "N_ATTACKS = 10000\n",
    "BUDGET = 520000\n",
    "ATTACKER_VARIANT = RandomAttacker\n",
    "compromised_array, effort_array = analyzer.monte_carlo_analysis(n_attacks=N_ATTACKS, attacker_variant=ATTACKER_VARIANT, budget=BUDGET, device_only=False, vary_entrypoints=True)\n",
    "analyzer.plot_monte()"
   ]
  },
  {
   "cell_type": "markdown",
   "metadata": {},
   "source": [
    "#### Varied Parameter\n",
    "Perform monte carlo simulation while varying particular parameter, such as the level of redundancy in the network. "
   ]
  },
  {
   "cell_type": "code",
   "execution_count": null,
   "metadata": {},
   "outputs": [],
   "source": [
    "import os\n",
    "import multiprocess as mp\n",
    "N_ATTACKS = 1000\n",
    "N_DEVICES = 30\n",
    "BUDGET = 52\n",
    "SPEC = p.cwd() / \"specifications\" / \"SmartMeter_specifications.json\" \n",
    "SEED = np.random.randint(low=0, high=52600)\n",
    "N_ENTRYPOINTS = 1 # Total budget is multiplied by this!\n",
    "MIN_CHILDREN = 2\n",
    "MAX_CHILDREN = N_DEVICES\n",
    "CHILD_NO_STEP = 2\n",
    "CHILD_NO_DEVIATION = 0\n",
    "no_of_children = np.arange(MIN_CHILDREN, MAX_CHILDREN, CHILD_NO_STEP)\n",
    "network_specs = dict(n_devices=N_DEVICES,\n",
    "                     n_entrypoints=N_ENTRYPOINTS,\n",
    "                     network_specs=SPEC,\n",
    "                     child_no_deviation=CHILD_NO_DEVIATION,\n",
    "                     enable_sibling_to_sibling_comm=True)\n",
    "\n",
    "compromised_array, effort_array = analyzer.monte_carlo_multi_analysis(seed, \"children_per_parent\", no_of_children, budget=BUDGET, n_attacks=N_ATTACKS, **network_specs)\n",
    "analyzer.plot_monte()"
   ]
  },
  {
   "cell_type": "markdown",
   "metadata": {},
   "source": [
    "### Static Analysis\n",
    "Given an infinite budget, breaksdown the probability of compromising components in the network. The resulting probabilities are exact (except for floating point precision issues) but do not scale well to larger communication networks (> 5 nodes). Useful as a static feature of a communication network. "
   ]
  },
  {
   "cell_type": "code",
   "execution_count": null,
   "metadata": {},
   "outputs": [],
   "source": [
    "n_probs = analyzer.static_analysis(show_paths=False, verbose=True)\n",
    "analyzer.plot_static()"
   ]
  },
  {
   "cell_type": "code",
   "execution_count": null,
   "metadata": {},
   "outputs": [],
   "source": [
    "sns.barplot(n_probs)\n",
    "plt.gca().set(xlabel=\"No. of nodes compromised\", ylabel=\"Probability\")\n",
    "plt.gcf().savefig(p.cwd() / \"media\" / f\"StaticAnalysis.pdf\")"
   ]
  },
  {
   "cell_type": "code",
   "execution_count": null,
   "metadata": {},
   "outputs": [],
   "source": [
    "# Adjacency Matrix\n",
    "# Does not handle self-loops / backtracking\n",
    "# Consequently, probabilities will differ from combinatorial approach\n",
    "\n",
    "def superscript(num:int):\n",
    "    sup_map = {0: f\"\\N{SUPERSCRIPT ZERO}\", 1: f\"\\N{SUPERSCRIPT ONE}\", 2: f\"\\N{SUPERSCRIPT TWO}\", 3: f\"\\N{SUPERSCRIPT THREE}\", 4: f\"\\N{SUPERSCRIPT FOUR}\", \n",
    "           5: f\"\\N{SUPERSCRIPT FIVE}\",  6: f\"\\N{SUPERSCRIPT SIX}\", 7: f\"\\N{SUPERSCRIPT SEVEN}\", 8: f\"\\N{SUPERSCRIPT EIGHT}\", 9: f\"\\N{SUPERSCRIPT NINE}\"}\n",
    "    return \"\".join(sup_map[digit] for digit in map(int, str(num)))\n",
    "\n",
    "np.set_printoptions(precision=2, floatmode=\"maxprec_equal\")\n",
    "nodes = sorted(network.graph.nodes(), key=lambda node: node.id)\n",
    "prob_lookup = [node.get_prob_to_compromise() for node in nodes]\n",
    "print(f\"Probabilities: {prob_lookup}\")\n",
    "\n",
    "\n",
    "A = nx.adjacency_matrix(network.graph, nodelist=nodes, weight=\"p\").todense()\n",
    "n_probs = {}\n",
    "oldA = np.eye(A.shape[0])\n",
    "for i in range(len(nodes)):\n",
    "    newA = oldA@A\n",
    "    # np.fill_diagonal(newA, val=0)\n",
    "    print(f\"A{superscript(i+1)}\\n\", newA)\n",
    "    n_probs[i+1] = np.triu(newA, k=1).sum()\n",
    "    print(f\"A{superscript(i+1)}: {n_probs[i+1]}\")\n",
    "    oldA = newA"
   ]
  },
  {
   "cell_type": "code",
   "execution_count": null,
   "metadata": {},
   "outputs": [],
   "source": [
    "# Mutually Exclusive Approach\n",
    "# Assumes you can jump and independently attack any node (i.e. ignores communication connections!)\n",
    "\n",
    "time_required = 0.0\n",
    "nodes = network.graph.nodes()\n",
    "node_probs = {node: node.get_prob_to_compromise() for node in nodes}\n",
    "\n",
    "n_probs = {}\n",
    "all_nodes = set(nodes)\n",
    "cumulative = 0.0\n",
    "for n_devices in range(network.n_components, 0, -1):\n",
    "    n_probs[n_devices] = cumulative\n",
    "    for combination in itertools.combinations(nodes, n_devices):\n",
    "        probability_to_compromise = 1.0\n",
    "        combination = set(combination)\n",
    "        missing_nodes = all_nodes.difference(combination)\n",
    "        for node in combination:\n",
    "            probability_to_compromise *= node_probs[node]\n",
    "        for node in missing_nodes:\n",
    "            probability_to_compromise *= (1 - node_probs[node])\n",
    "        n_probs[n_devices] += probability_to_compromise \n",
    "    cumulative += n_probs[n_devices]\n",
    "print(\"\\n\".join(f\"{k} devices: {v}\" for k,v in sorted(n_probs.items(), key=lambda item: item[0])))\n",
    "print(\"Sum:\", sum(n_probs.values()))"
   ]
  },
  {
   "cell_type": "code",
   "execution_count": null,
   "metadata": {},
   "outputs": [],
   "source": [
    "# If the probability of compromising all components is the same,\n",
    "# we can use the Binomial distribution function\n",
    "# Takes: 12.6 µs\n",
    "N = network.n_components\n",
    "k = 2\n",
    "p = 0.5\n",
    "cumulative = 0.0\n",
    "for k in range(N, 0, -1):\n",
    "    prob = math.comb(N, k)*math.pow(p, k)*math.pow(1-p,N-k)\n",
    "    print(f\"{k} Devices: {cumulative + prob}\")\n",
    "    cumulative += prob"
   ]
  },
  {
   "cell_type": "code",
   "execution_count": null,
   "metadata": {},
   "outputs": [],
   "source": [
    "import scipy.stats.distributions as distr\n",
    "distr_lookup = {\n",
    "    \"TruncNorm\": distr.truncnorm, # Continuous, loc=mean (float), scale=standard deviation (float)\n",
    "    \"Exponential\": distr.expon, # Continuous, scale = 1 / lambda (float)\n",
    "    \"Gamma\": distr.gamma, # Continuous, a = shape parameter (integer)\n",
    "    \"Bernoulli\": distr.bernoulli, # Discrete\n",
    "}\n",
    "n_attacks = 20\n",
    "is_successful = distr.bernoulli(0.5).rvs(size=n_attacks).astype(bool)\n",
    "time_taken = distr.expon(scale=0.0).rvs(size=n_attacks)[is_successful]\n",
    "print(f\"Successful Attacks {sum(is_successful)}/{n_attacks}\\nTime Taken per Successful Attack: {time_taken}\")"
   ]
  },
  {
   "cell_type": "markdown",
   "metadata": {},
   "source": [
    "## Communication Network Specifications\n",
    "Explores how we can supply structured information to our procedural network generation algorithm. Includes information such as the types of components and defences we expect to see in the communication network."
   ]
  },
  {
   "cell_type": "code",
   "execution_count": null,
   "metadata": {},
   "outputs": [],
   "source": [
    "# seed = np.random.randint(low=0, high=52600)\n",
    "seed = 27194\n",
    "print(f\"Seed: {seed}\")\n",
    "np.random.seed(seed)\n",
    "pcn = CommNetwork(n_devices=15, n_entrypoints=1, children_per_parent=5, child_no_deviation=1,\n",
    "                  network_specs=\"SmartMeterNetworkSpecifications.json\",\n",
    "                  enable_sibling_to_sibling_comm=True)\n"
   ]
  },
  {
   "cell_type": "markdown",
   "metadata": {},
   "source": [
    "## Power System Component Association"
   ]
  },
  {
   "cell_type": "code",
   "execution_count": null,
   "metadata": {},
   "outputs": [],
   "source": [
    "import inspect\n",
    "import warnings\n",
    "import numpy as np\n",
    "import pandapower as pp\n",
    "import pandapower.networks as grids\n",
    "grid = pp.create_empty_network()\n",
    "grid_filter = lambda module: inspect.isfunction(module) and not module.__name__.startswith(\"_\")\n",
    "grid_map = {grid_name:grid_creator for grid_name, grid_creator in \\\n",
    "            inspect.getmembers(grids, predicate=grid_filter)}\n",
    "grid_options = list(grid_map.keys())\n",
    "print(\", \".join(grid_map.keys()))\n",
    "CHOSEN_GRID = \"mv_oberrhein\" # \"create_cigre_network_mv\" # Can be None\n",
    "kwargs = dict(scenario=\"generation\", include_substations=True) #  dict(with_der=\"all\")\n",
    "with warnings.catch_warnings():\n",
    "    warnings.filterwarnings(action=\"ignore\", category=FutureWarning)\n",
    "    grid_name = np.random.choice(grid_options) if CHOSEN_GRID is None else CHOSEN_GRID\n",
    "    print(f\"Grid: {grid_name}\")\n",
    "    grid = grid_map[grid_name](**kwargs)\n",
    "    print(grid)\n",
    "    # Controllable\n",
    "    n_controllable = sum(getattr(grid, attr).shape[0] for attr in [\"gen\", \"shunt\", \"trafo\", \"switch\"])\n",
    "    print(f\"No. of controllable elements: {n_controllable} (generators, shunts, transformers and switches)\")\n",
    "    # Sensor-Only\n",
    "    n_sensor_only = sum(getattr(grid, attr).shape[0] for attr in [\"bus\", \"load\", \"line\"])\n",
    "    print(f\"No. of sensor-only elements: {n_sensor_only} (buses, loads and lines)\")\n",
    "    print(f\"Total (possible) no. of devices: {n_sensor_only+n_controllable} (generators, shunts, transformers and switches, buses, loads and lines)\")\n",
    "\n",
    "# grid.switch.closed = True\n",
    "pp.plotting.simple_plot(grid, respect_switches=True, plot_line_switches=True, plot_loads=True, plot_gens=True, plot_sgens=True, )\n"
   ]
  },
  {
   "cell_type": "code",
   "execution_count": null,
   "metadata": {},
   "outputs": [],
   "source": [
    "seed = np.random.randint(low=0, high=52600)\n",
    "np.random.seed(seed); random.seed(seed)\n",
    "print(f\"Seed: {np.random.get_state()[1][0]}\")\n",
    "\n",
    "with warnings.catch_warnings():\n",
    "    warnings.filterwarnings(action=\"ignore\", category=FutureWarning)\n",
    "    grid = pandapower.networks.mv_oberrhein(scenario=\"generation\") # pandapower.networks.case14()\n",
    "    print(grid)\n",
    "    pcn = CommNetwork(n_devices=30, n_entrypoints=1, children_per_parent=0, child_no_deviation=5, \n",
    "                    network_specs=p.cwd() / \"specifications\" / \"SCADA_specifications.json\", \n",
    "                    # \"Default_specifications.json\", \"SmartMeter_specifications.json\", \"SCADA_specifications.json\", \"WAMS_specifications.json\"\n",
    "                    grid=grid,\n",
    "                    enable_sibling_to_sibling_comm=True)\n",
    "print(CommNetwork.show_tree(pcn.root))\n",
    "print(f\"Number of Components: {pcn.n_components}\")"
   ]
  },
  {
   "cell_type": "markdown",
   "metadata": {},
   "source": [
    "## Criticality"
   ]
  },
  {
   "cell_type": "markdown",
   "metadata": {},
   "source": [
    "### Parameters of the node "
   ]
  },
  {
   "cell_type": "code",
   "execution_count": null,
   "metadata": {},
   "outputs": [],
   "source": [
    "# line: capacity\n",
    "# generator: size / output\n",
    "# load: size / output\n",
    "# bus: voltage level\n",
    "# storage: max output\n",
    "# switch:\n",
    "# transformer: vn_hv_kv\n",
    "\n",
    "def minmax(values):\n",
    "    return np.nan_to_num((values - values.min()) / (values.max() - values.min()), nan=0)\n",
    "\n",
    "def meannorm(values):\n",
    "    return np.nan_to_num((values - values.mean()) / (values.max() - values.min()), nan=0)\n",
    "\n",
    "def znorm(values):\n",
    "    return np.nan_to_num((values - values.mean()) / values.std(), nan=0)\n",
    "\n",
    "def criticality_by_size(grid, norm=None):\n",
    "    criticality = {}\n",
    "    for kind, attribute in zip([\"sgen\", \"gen\", \"storage\", \"load\", \"trafo\", \"line\", \"bus\"], \n",
    "                               [\"sn_mva\", \"sn_mva\", \"sn_mva\", \"sn_mva\", \"sn_mva\", \"max_i_ka\", \"vn_kv\"]):\n",
    "        values = getattr(getattr(grid, kind), attribute)\n",
    "        criticality[kind] = values / values.min() if norm is None else norm(values)\n",
    "    return criticality\n",
    "\n",
    "def criticality_by_degree(grid, degree=nx.degree, norm=None):\n",
    "    criticality = {}\n",
    "    G = pandapower.topology.create_nxgraph(grid, include_out_of_service=True, include_lines=True, respect_switches=True,\n",
    "                                       include_impedances=False, include_dclines=True, include_trafos=True, include_trafo3ws=True)\n",
    "    bus_to_degree = degree(G)\n",
    "    print(bus_to_degree)\n",
    "    degree = np.array([value for _, value in sorted(bus_to_degree, key=lambda x:x[0])])\n",
    "    if norm is not None:\n",
    "        degree = norm(degree)\n",
    "        bus_to_degree = {i:val for i,val in enumerate(degree)}\n",
    "    criticality[\"bus\"] = degree # np.array([bus_to_degree[i] for i in G.nodes])\n",
    "    for kind in [\"sgen\", \"gen\", \"storage\", \"load\", \"trafo\", \"line\"]:\n",
    "        df = getattr(grid, kind)\n",
    "        if hasattr(df, \"bus\"):\n",
    "            criticality[kind] = getattr(df, \"bus\").map(bus_to_degree)\n",
    "        elif hasattr(df, \"from_bus\"):\n",
    "            criticality[kind] = getattr(df, \"from_bus\").map(bus_to_degree).add(getattr(df, \"to_bus\").map(bus_to_degree))\n",
    "        elif hasattr(df, \"hv_bus\"):\n",
    "            criticality[kind] = getattr(df, \"hv_bus\").map(bus_to_degree).add(getattr(df, \"lv_bus\").map(bus_to_degree))\n",
    "    return criticality\n",
    "\n",
    "crit = criticality_by_size(grid, norm=minmax)\n",
    "crit = criticality_by_degree(grid, norm=minmax)"
   ]
  },
  {
   "cell_type": "code",
   "execution_count": null,
   "metadata": {},
   "outputs": [],
   "source": [
    "import warnings\n",
    "import matplotlib\n",
    "from collections import Counter\n",
    "from pandapower.plotting import draw_collections, create_bus_collection, create_line_collection, \\\n",
    "                                create_trafo_collection, create_line_switch_collection, \\\n",
    "                                create_sgen_collection, create_load_collection, create_ext_grid_collection\n",
    "from matplotlib import colormaps\n",
    "from matplotlib.colors import Normalize\n",
    "from matplotlib.lines import Line2D\n",
    "from visualization.patches import ElectricalPatchHandler, ElectricalPatchMaker\n",
    "\n",
    "def modal_value(lst):\n",
    "    data = Counter(lst)\n",
    "    return data.most_common(1)[0][0]\n",
    "\n",
    "fig, ax = plt.subplots(nrows=1, ncols=1, figsize=(12,12))\n",
    "grid = network.grid\n",
    "N = len(np.unique(grid.bus.vn_kv))\n",
    "cmap_list = [(volt) for volt in np.unique(grid.bus.vn_kv)]\n",
    "with warnings.catch_warnings():\n",
    "    warnings.filterwarnings(\"ignore\", \"\", category=FutureWarning)\n",
    "\n",
    "    bus_patch = Line2D([0], [0], marker=\"8\", markersize=10, markerfacecolor=\"white\",\n",
    "                       markeredgecolor=\"black\", color=\"None\")\n",
    "    colors = plt.rcParams['axes.prop_cycle'].by_key()['color']\n",
    "    bus_pc = create_bus_collection(grid, zorder=10,\n",
    "        size=0.2, patch_type=\"poly8\", \n",
    "        infofunc=lambda id:grid.bus.loc[id].name,\n",
    "        cbar_title=\"Criticality\",\n",
    "        linewidth=2, # color=[\"black\"]*len(grid.bus))\n",
    "        cmap=\"jet\",# norm=Normalize(vmin=0, vmax=grid.bus.vn_kv.max()*1.1),\n",
    "        z=crit[\"bus\"])\n",
    "    print({i:val for i,val in enumerate(crit[\"bus\"])})\n",
    "    bus_coords = list(zip(grid.bus_geodata.loc[:, \"x\"].values, grid.bus_geodata.loc[:, \"y\"].values))\n",
    "\n",
    "    cmap = matplotlib.colormaps['jet'] # Note: Assumes values are normalized between 0 and 1!\n",
    "    ext_patch = ElectricalPatchMaker(symbol=\"ext_grid\", x0=8, size=10, lw=2, fc=\"white\", ec=\"black\")\n",
    "    ext_grid_pc = create_ext_grid_collection(grid, size=0.3)\n",
    "    \n",
    "    trafo_patch = ElectricalPatchMaker(symbol=\"trafo\", x0=12, y0=4, size=5, lw=2, fc=\"white\", ec=\"black\")\n",
    "    trafo_pc = create_trafo_collection(grid, zorder=9,\n",
    "        size=0.2, color=cmap(crit[\"trafo\"]),\n",
    "        infofunc=lambda id:grid.bus.loc[id].name)\n",
    "    \n",
    "    switch_patch = ElectricalPatchMaker(symbol=\"line_switch\", x0=8, size=10, lw=2, fc=\"white\", ec=\"black\")\n",
    "    line_switch_pc = create_line_switch_collection(grid, zorder=8,\n",
    "        size=0.2, distance_to_bus=0.5)\n",
    "    \n",
    "    gen_patch = ElectricalPatchMaker(symbol=\"sgen\", x0=12, y0=4, size=10, lw=1, fc=\"white\", ec=\"black\")\n",
    "    gen_pc = create_sgen_collection(grid, zorder=9, linewidth=1,\n",
    "        size=0.2, color=\"black\", patch_facecolor=\"white\", patch_edgecolor=cmap(crit[\"sgen\"]), orientation=0)\n",
    "\n",
    "    load_patch= ElectricalPatchMaker(symbol=\"load\", size=10, x0=12, lw=1, fc=\"white\", ec=\"black\")\n",
    "    # Line2D([0], [0], marker=\"v\", markersize=10, markerfacecolor=\"white\",\n",
    "     #                   markeredgecolor=\"black\", color=\"None\")\n",
    "    load_pc = create_load_collection(grid, zorder=8, linewidth=1,\n",
    "        size=0.2, color=\"black\", patch_facecolor=\"white\", patch_edgecolor=cmap(crit[\"load\"]), orientation=np.pi)\n",
    "    \n",
    "    line_pc = create_line_collection(grid, zorder=0,\n",
    "        use_bus_geodata=True, color=\"black\")\n",
    "    \n",
    "    legend_map = {\"Bus\":bus_patch, \"Generator\":gen_patch, \"Load\":load_patch, \"Transformer\":trafo_patch,\n",
    "                  \"External Grid\":ext_patch, \"Switch\":switch_patch}\n",
    "\n",
    "draw_collections([bus_pc, ext_grid_pc, trafo_pc, line_switch_pc, gen_pc, load_pc, line_pc],\n",
    "                 ax=ax, plot_colorbars=True, set_aspect=True, axes_visible=(True, True))\n",
    "\n",
    "labels, handles = zip(*sorted(zip(*(legend_map.keys(), legend_map.values())), key=lambda t: t[0]))\n",
    "fig.legend(labels=labels, handles=handles, loc=\"lower center\", bbox_to_anchor=(0.5, -0.1), ncol=1 + (len(labels) // 3),\n",
    "           handler_map={trafo_patch:ElectricalPatchHandler(), ext_patch:ElectricalPatchHandler(), switch_patch:ElectricalPatchHandler(),\n",
    "                        gen_patch:ElectricalPatchHandler(), load_patch:ElectricalPatchHandler()},\n",
    "           title=\"Legend\", fancybox=True, fontsize='large', title_fontsize='larger')\n",
    "ax.axis(\"off\")\n",
    "plt.show()"
   ]
  },
  {
   "cell_type": "code",
   "execution_count": null,
   "metadata": {},
   "outputs": [],
   "source": []
  }
 ],
 "metadata": {
  "kernelspec": {
   "display_name": "Python 3",
   "language": "python",
   "name": "python3"
  },
  "language_info": {
   "codemirror_mode": {
    "name": "ipython",
    "version": 3
   },
   "file_extension": ".py",
   "mimetype": "text/x-python",
   "name": "python",
   "nbconvert_exporter": "python",
   "pygments_lexer": "ipython3",
   "version": "3.12.1"
  }
 },
 "nbformat": 4,
 "nbformat_minor": 2
}
