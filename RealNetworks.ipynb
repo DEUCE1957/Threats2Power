{
 "cells": [
  {
   "cell_type": "markdown",
   "metadata": {},
   "source": [
    "## Spanish Distribution Grid"
   ]
  },
  {
   "cell_type": "code",
   "execution_count": null,
   "metadata": {},
   "outputs": [],
   "source": [
    "# 12707 buses / nodes\n",
    "# bus_geodata = pd.read_csv(grid_path / \"Buscord_indexed.txt\", sep=r\"\\s+\", names=[\"Index\", \"X\", \"Y\"], index_col=0)\n",
    "\n",
    "# # 8087 loads\n",
    "# # Grouped into 1138 power supplies (e.g. corresponding to a Residential Building)\n",
    "# loads = pd.read_csv(grid_path / \"Load_indexed.txt\", sep=r\"\\s+\", names=[\"Version\", \"Name\", \"Phases\", \"Bus\", \"Voltage\", \"Power\", \"PF\", \"Daily\"])\n",
    "# # Map each load to load profile\n",
    "# load_shapes = pd.read_csv(grid_path / \"Loadshape.txt\", names=[\"Version\", \"Name\", \"No. of Points\", \"Min Interval\", \"File\", \"Use\"], sep=r\"\\s+\")\n",
    "\n",
    "# # 135 Fuses (on lines)\n",
    "# fuses = pd.read_csv(grid_path / \"fuse_indexed.txt\", names=[\"Version\", \"Name\", \"Bus1\", \"Bus2\", \"Phases\", \"LInecode\", \"Length\", \"Units\"], sep=r\"\\s+\")\n",
    "# # 30 Transformers\n",
    "# trafo = pd.read_csv(grid_path / \"Transformer_ind.txt\", sep=r\"\\s+\",\n",
    "#                     names=[\"Version\", \"Name\", \"Windings\", \"Buses\", \"Buses2\", \"Connection\", \"Connection2\", \"Voltages\", \"Voltages2\", \"Currents\", \"Currents2\", \"XHL\", \"sub\"])\n",
    "# reactors = pd.read_csv(grid_path / \"neutral_ind.txt\", sep=r\"\\s+\")\n",
    "# # 29 MV Lines (each has an energy meter)\n",
    "# mv_lines = pd.read_csv(grid_path / \"source2txline_ind.txt\", sep=r\"\\s+\")\n",
    "# # 10138 LV Lines\n",
    "# lv_lines = pd.read_csv(grid_path / \"Line_indexed_check.txt\", sep=r\"\\s+\")\n",
    "# lv_line_monitors = pd.read_csv(grid_path / \"monitor_line.txt\", sep=r\"\\s+\")"
   ]
  },
  {
   "cell_type": "code",
   "execution_count": null,
   "metadata": {},
   "outputs": [],
   "source": [
    "import pandas as pd\n",
    "import pandapower as pp\n",
    "from tqdm.notebook import trange, tqdm\n",
    "from pathlib import Path\n",
    "from opendssdirect import dss\n",
    "grid_path = Path.cwd() / \"data\" / \"SpanishLVNetwork\" / \"RunDss\"\n",
    "print('OpenDSSDirect.py and engine versions:', dss.Version())\n",
    "dss(f\"Redirect '{str(grid_path / 'Master.dss')}'\")"
   ]
  },
  {
   "cell_type": "code",
   "execution_count": null,
   "metadata": {},
   "outputs": [],
   "source": [
    "import inspect\n",
    "\n",
    "dss.Circuit.AllBusNames()\n",
    "dss.Settings.VoltageBases()\n",
    "\n",
    "dss.Transformers.AllNames()\n",
    "dss.Reactors.AllNames()\n",
    "dss.Loads.AllNames()\n",
    "inspect.getmembers(dss.Circuit) # dss.Bus.NumNodes()\n",
    "\n",
    "# Not Used: Storages, CNData, Capacitors, Fuses, GICSources, Generators,\n",
    "#           Isource, PVsystems, TSData, Reclosers, WireData\n",
    "# Loads, LoadShape\n",
    "# Lines, LineCodes, LineGeometries, LineSpacings\n",
    "# dss.Circuit.AllBusVolts(), dss.AllBusVMag\n",
    "dss.Circuit.AllBusDistances()\n",
    "dss.Circuit.NumBuses() # 10289 buses\n",
    "dss.Circuit.TotalPower()\n",
    "dss.Circuit.AllBusMagPu()\n",
    "[name for name, _ in inspect.getmembers(dss) if not name.startswith(\"_\")]"
   ]
  },
  {
   "cell_type": "code",
   "execution_count": null,
   "metadata": {},
   "outputs": [],
   "source": [
    "\n",
    "net = pp.create_empty_network()\n",
    "\n",
    "dss.Command(\"MakeBusList\") # Force instantiation of all buses\n",
    "dss.Command(\"CalcVoltageBases\") # Auto Set Voltage Bases\n",
    "for i, bus_name in tqdm(enumerate(dss.Circuit.AllBusNames()), total=dss.Circuit.NumBuses()):\n",
    "    dss.Circuit.SetActiveBus(bus_name)\n",
    "    kV = dss.Bus.kVBase()\n",
    "    X, Y = dss.Bus.X(), dss.Bus.Y()\n",
    "    # print(bus_name, kV, X, Y, dss.Bus.Nodes())\n",
    "    pp.create_bus(net, kV, name=bus_name, geodata=(X,Y), type=\"b\")\n",
    "    if i == 100: break\n",
    "    # break"
   ]
  },
  {
   "cell_type": "code",
   "execution_count": null,
   "metadata": {},
   "outputs": [],
   "source": [
    "for i, line in enumerate(dss.Lines):\n",
    "    if i < 1100:\n",
    "        continue\n",
    "    name = line.Name()\n",
    "    idx = line.Idx()\n",
    "    bus1_name, *bus1_terminals = line.Bus1().split(\".\")\n",
    "    bus2_name, *bus2_terminals = line.Bus2().split(\".\")[0]\n",
    "    length = line.Length()\n",
    "    line.Units()\n",
    "    C0, C1 = line.C0(), line.C1()\n",
    "    is_switch = line.IsSwitch()\n",
    "    R0, R1 = line.R0(), line.R1()\n",
    "    Rg = line.Rg()\n",
    "    X0, X1 = line.X0(), line.X1() # Per unit length\n",
    "    Xg = line.Xg()\n",
    "    n_phases = line.Phases()\n",
    "    rho = line.Rho() # Resistivity\n",
    "    normAmps, extAmps = line.NormAmps(), line.EmergAmps()\n",
    "    print(line.Name(), line.Bus1(), line.Bus2(), line.Length(), C0, C1, R0, R1, Rg, X0, X1, Xg,\n",
    "          line.NormAmps())\n",
    "    # pp.create_line_from_parameters(net, from_bus, to_bus, length_km, r_ohm_per_km=R0, x_ohm_per_km=X0,\n",
    "    #                                c_nf_per_km=C0, max_i_ka=normAmps/1000.0, name=name, index=idx, type=None,\n",
    "    #                                geodata=None, in_service=True, df=1., parallel=n_phases, g_us_per_km=0.,\n",
    "    #                                max_loading_percent=100.0,\n",
    "    #                                r0_ohm_per_km=R0, x0_ohm_per_km=X0, c0_nf_per_km=C0)\n",
    "    if i > 1150:\n",
    "        break"
   ]
  },
  {
   "cell_type": "code",
   "execution_count": 71,
   "metadata": {},
   "outputs": [
    {
     "name": "stdout",
     "output_type": "stream",
     "text": [
      "load1 1.0 0.0\n"
     ]
    }
   ],
   "source": [
    "for i, load in enumerate(dss.Loads):\n",
    "    name = load.Name()\n",
    "    size = load.kW()\n",
    "    pf = load.PF()\n",
    "    n_phases = load.Phases()\n",
    "    load.Model\n",
    "    print(name, size, load.kWh())\n",
    "    # pp.create_load(net, bus, p_mw, q_mvar=0, name=name, )\n",
    "    load.Bus\n",
    "    break"
   ]
  }
 ],
 "metadata": {
  "kernelspec": {
   "display_name": ".venv",
   "language": "python",
   "name": "python3"
  },
  "language_info": {
   "codemirror_mode": {
    "name": "ipython",
    "version": 3
   },
   "file_extension": ".py",
   "mimetype": "text/x-python",
   "name": "python",
   "nbconvert_exporter": "python",
   "pygments_lexer": "ipython3",
   "version": "3.12.3"
  }
 },
 "nbformat": 4,
 "nbformat_minor": 2
}
