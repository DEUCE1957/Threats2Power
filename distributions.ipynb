{
 "cells": [
  {
   "cell_type": "code",
   "execution_count": null,
   "metadata": {},
   "outputs": [],
   "source": [
    "import numpy as np\n",
    "import scipy\n",
    "import matplotlib.pyplot as plt\n",
    "fit = scipy.optimize.curve_fit(\n",
    "    lambda x, alpha, loc, beta: scipy.stats.gamma.cdf(x, alpha, loc=loc, scale=1/beta),\n",
    "    xdata=[0.05, 0.5, 0.95], # Percents\n",
    "    ydata=[4, 8, 16], # Quantiles\n",
    "    p0=[0.5, 8, 5] # Initial Guesses\n",
    ")\n",
    "print(fit)"
   ]
  },
  {
   "cell_type": "code",
   "execution_count": null,
   "metadata": {},
   "outputs": [],
   "source": [
    "for combo in [(4, 8, 16), (4, 8, 16), (7, 17, 37), (4, 9, 15)]:\n",
    "    plt.figure()\n",
    "    fit_alpha, fit_loc, fit_beta = scipy.stats.gamma.fit(combo, )\n",
    "    print(fit_alpha, fit_loc, fit_beta)\n",
    "    x = np.linspace(0, fit_loc*2, num=100)\n",
    "    cdf = scipy.stats.gamma.cdf(x, fit_alpha, loc=fit_loc, scale=1/fit_beta)\n",
    "    plt.plot(x, 100.0*cdf)\n",
    "    plt.gca().set(xlabel=\"TTC (days)\", ylabel=\"CDF (%)\", ylim=(-10, 110), xlim=(0, np.max(x)))\n",
    "    plt.show()"
   ]
  },
  {
   "cell_type": "code",
   "execution_count": null,
   "metadata": {},
   "outputs": [],
   "source": [
    "import inspect\n",
    "import numpy as np\n",
    "from cyber import CommmonDefences\n",
    "N = 10000\n",
    "efforts = np.zeros(shape=(N, 6))\n",
    "names = []\n",
    "for j, (name, method) in enumerate(inspect.getmembers(CommmonDefences, predicate=inspect.ismethod)):\n",
    "    efforts[:, j] = method().effort_distribution.rvs(N)\n",
    "    names.append(name)\n"
   ]
  },
  {
   "cell_type": "code",
   "execution_count": null,
   "metadata": {},
   "outputs": [],
   "source": [
    "import pandas as pd\n",
    "import matplotlib.pyplot as plt\n",
    "import seaborn as sns\n",
    "df = pd.DataFrame(efforts, columns=names)\n",
    "fig, axes = plt.subplots(nrows=df.shape[1], figsize=(4, df.shape[1]*4))\n",
    "for i, column in enumerate(df.columns.values):\n",
    "    sns.histplot(df.loc[:, column], stat=\"proportion\", ax=axes[i])\n",
    "    axes[i].set(xlabel=\"TTC (days)\", title=column)\n",
    "plt.tight_layout()\n",
    "plt.show()"
   ]
  },
  {
   "cell_type": "code",
   "execution_count": null,
   "metadata": {},
   "outputs": [],
   "source": []
  }
 ],
 "metadata": {
  "kernelspec": {
   "display_name": ".venv",
   "language": "python",
   "name": "python3"
  },
  "language_info": {
   "codemirror_mode": {
    "name": "ipython",
    "version": 3
   },
   "file_extension": ".py",
   "mimetype": "text/x-python",
   "name": "python",
   "nbconvert_exporter": "python",
   "pygments_lexer": "ipython3",
   "version": "3.11.3"
  }
 },
 "nbformat": 4,
 "nbformat_minor": 2
}
